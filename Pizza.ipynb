{
 "cells": [
  {
   "cell_type": "code",
   "execution_count": 77,
   "id": "39546933",
   "metadata": {},
   "outputs": [
    {
     "name": "stdout",
     "output_type": "stream",
     "text": [
      "Did the customer ordered 4 pizza? Answer: Yes/No Yes\n",
      "Pizza size:medium\n",
      "How many pizzas:4\n",
      "You have ordered 4 medium size of pizza! It comes with a 1 liter coke for free \n"
     ]
    }
   ],
   "source": [
    "CustomerOrder = input(\"Did the customer ordered 4 pizza? Answer: Yes/No \")\n",
    "if(CustomerOrder=='No'):\n",
    "    print(CustomerOrder)\n",
    "if(CustomerOrder=='Yes'):\n",
    "    size = input(\"Pizza size:\")\n",
    "    qty = int(input(\"How many pizzas:\"))\n",
    "    if(size=='small' and qty>=4):\n",
    "        print(\"You have ordered\",qty,size, \"size of pizza! It comes with a 500ml coke for free \")\n",
    "    elif(size=='small' and qty<4):\n",
    "        print(\"You have order\",qty,size,\"size of pizzas\")\n",
    "    if(size=='medium' and qty>=3):\n",
    "        print(\"You have ordered\",qty,size, \"size of pizza! It comes with a 1 liter coke for free \")\n",
    "    elif(size=='medium' and qty<3):\n",
    "        print(\"You have order\",qty,size,\"size of pizzas\")\n",
    "    if(size=='large' and qty>=2):\n",
    "        print(\"You have ordered\",qty,size, \"size of pizza! It comes with a half gallon of ice-cream for free \")\n",
    "    elif(size=='large' and qty<2):\n",
    "        print(\"You have order\",qty,size,\"size of pizzas\")\n",
    "    if(size=='monster' and qty>=1):\n",
    "        print(\"You have ordered\",qty,size, \"size of pizza! It comes with a gallon of ice cream for free \")\n",
    "elif(CustomerOrder=='No'):\n",
    "    print(\"Sorry! This service is only for having a 4 wheeler drive through. Please, order from the counter inside. Thank you!\")\n",
    "\n",
    "else:\n",
    "    print(\"Enter the correct answer!\")"
   ]
  },
  {
   "cell_type": "code",
   "execution_count": 85,
   "id": "87a23e07",
   "metadata": {},
   "outputs": [
    {
     "name": "stdout",
     "output_type": "stream",
     "text": [
      "Enter a row number: 20\n",
      "                    \n",
      "                   \n",
      "                  1 \n",
      "                 1 2 \n",
      "                1 2 3 \n",
      "               1 2 3 4 \n",
      "              1 2 3 4 5 \n",
      "             1 2 3 4 5 6 \n",
      "            1 2 3 4 5 6 7 \n",
      "           1 2 3 4 5 6 7 8 \n",
      "          1 2 3 4 5 6 7 8 9 \n",
      "         1 2 3 4 5 6 7 8 9 10 \n",
      "        1 2 3 4 5 6 7 8 9 10 11 \n",
      "       1 2 3 4 5 6 7 8 9 10 11 12 \n",
      "      1 2 3 4 5 6 7 8 9 10 11 12 13 \n",
      "     1 2 3 4 5 6 7 8 9 10 11 12 13 14 \n",
      "    1 2 3 4 5 6 7 8 9 10 11 12 13 14 15 \n",
      "   1 2 3 4 5 6 7 8 9 10 11 12 13 14 15 16 \n",
      "  1 2 3 4 5 6 7 8 9 10 11 12 13 14 15 16 17 \n",
      " 1 2 3 4 5 6 7 8 9 10 11 12 13 14 15 16 17 18 \n"
     ]
    }
   ],
   "source": [
    "row = int(input(\"Enter a row number: \"))\n",
    "for i in range(row):\n",
    "    for j in range(row-i):\n",
    "        print(\"\",end=\" \")\n",
    "    for j in range(1, i):\n",
    "        print(j,end=\" \")\n",
    "    print()"
   ]
  }
 ],
 "metadata": {
  "kernelspec": {
   "display_name": "Python 3 (ipykernel)",
   "language": "python",
   "name": "python3"
  },
  "language_info": {
   "codemirror_mode": {
    "name": "ipython",
    "version": 3
   },
   "file_extension": ".py",
   "mimetype": "text/x-python",
   "name": "python",
   "nbconvert_exporter": "python",
   "pygments_lexer": "ipython3",
   "version": "3.11.3"
  }
 },
 "nbformat": 4,
 "nbformat_minor": 5
}
